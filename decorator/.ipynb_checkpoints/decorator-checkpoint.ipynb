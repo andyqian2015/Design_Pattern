{
 "cells": [
  {
   "cell_type": "code",
   "execution_count": 1,
   "metadata": {},
   "outputs": [],
   "source": [
    "# 装饰模式的应用场景:\n",
    "#　让其函数在不需要做任何代码变动的情况下增加额外的功能，装饰器的返回值也是一个函数对象，经常用于有插入需求的场景\n",
    "#　比如插入日志，性能测试，食物处理，缓存，权限校验等场景，有了装饰器，就可以抽离出大量与函数功能无关的雷同代码继续重用"
   ]
  },
  {
   "cell_type": "code",
   "execution_count": 2,
   "metadata": {},
   "outputs": [],
   "source": [
    "#　装饰器实现的场景模拟\n",
    "#　inspect可以获取父函数的方法作为额存储，inspect.stack()[1][3]\n",
    "# 但是这个有一个缺陷是，每次都要在新增的函数里面要加入这个装饰器的方法，显的比较笨拙，而且这种方法比较受到限"
   ]
  },
  {
   "cell_type": "code",
   "execution_count": 11,
   "metadata": {},
   "outputs": [],
   "source": [
    "def debug():\n",
    "    import inspect\n",
    "    caller_name = inspect.stack()[1][3]\n",
    "    print(\"[DEBUG]:enter {}()\".format(caller_name))"
   ]
  },
  {
   "cell_type": "code",
   "execution_count": 12,
   "metadata": {},
   "outputs": [],
   "source": [
    "def say_hello():\n",
    "    debug()\n",
    "    print(\"hello\")"
   ]
  },
  {
   "cell_type": "code",
   "execution_count": 13,
   "metadata": {},
   "outputs": [],
   "source": [
    "def say_goodbye():\n",
    "    debug()\n",
    "    print(\"goodbye\")"
   ]
  },
  {
   "cell_type": "code",
   "execution_count": 14,
   "metadata": {},
   "outputs": [
    {
     "name": "stdout",
     "output_type": "stream",
     "text": [
      "[DEBUG]:enter say_hello()\n",
      "hello\n",
      "[DEBUG]:enter say_goodbye()\n",
      "goodbye\n"
     ]
    }
   ],
   "source": [
    "if __name__ == \"__main__\":\n",
    "    say_hello()\n",
    "    say_goodbye()"
   ]
  },
  {
   "cell_type": "code",
   "execution_count": 16,
   "metadata": {},
   "outputs": [],
   "source": [
    "# 早期的装饰器版本，是通过一个warapper的方法将函数包裹起来，直接调用这个包裹的函数，实现装饰的作用，实际上称为包裹器还更靠谱一点\n",
    "# 实际上返回的是一个函数形式\n",
    "#　实现的逐步调用的方法\n",
    "#　step one 返回装饰器需要表达的含义，基func.__name__或者func的相关方法\n",
    "#　step two return func的相关方法\n",
    "#　step three:返回wrapper的方法"
   ]
  },
  {
   "cell_type": "code",
   "execution_count": 23,
   "metadata": {},
   "outputs": [],
   "source": [
    "def debug(func):\n",
    "    def wrapper():\n",
    "        print(\"[DUBUG]: ENTER {}()\".format(func.__name__))\n",
    "        return func() # 获取func的函数输出\n",
    "    return wrapper()　#　这样则直接返回的是函数的结果"
   ]
  },
  {
   "cell_type": "code",
   "execution_count": 24,
   "metadata": {},
   "outputs": [],
   "source": [
    "def say_hello():\n",
    "    print(\"hello\")"
   ]
  },
  {
   "cell_type": "code",
   "execution_count": 25,
   "metadata": {},
   "outputs": [
    {
     "name": "stdout",
     "output_type": "stream",
     "text": [
      "[DUBUG]: ENTER say_hello()\n",
      "hello\n"
     ]
    }
   ],
   "source": [
    "say_hello = debug(say_hello) # 实际上将函数重新包裹了一下，和装饰器这个概念还是有一点不自然，耦合的比较紧"
   ]
  },
  {
   "cell_type": "code",
   "execution_count": 22,
   "metadata": {},
   "outputs": [],
   "source": [
    "# 在后续版本中出现了增加@语法糖的方法，这种方法实现了和需要装饰的函数的剥离，是一种相对更好的方法\n",
    "# 这种方法更简单，只需要在需要被装饰的函数前加上@即可,利用这个实现了再另外包裹一层的目的"
   ]
  },
  {
   "cell_type": "code",
   "execution_count": 36,
   "metadata": {},
   "outputs": [],
   "source": [
    "def debug(func):\n",
    "    def wrapper():\n",
    "        print(\"[DUBUG]: ENTER {}()\".format(func.__name__)) # 获取装饰器输出\n",
    "        return func() #获取函数的输出\n",
    "    return wrapper # 返回的是函数，后面需要做二次调用，　这种情况下是否加()则不影响"
   ]
  },
  {
   "cell_type": "code",
   "execution_count": 37,
   "metadata": {},
   "outputs": [],
   "source": [
    "@debug\n",
    "def say_hello():\n",
    "    print(\"hello\")"
   ]
  },
  {
   "cell_type": "code",
   "execution_count": 35,
   "metadata": {},
   "outputs": [
    {
     "name": "stdout",
     "output_type": "stream",
     "text": [
      "[DUBUG]: ENTER say_hello()\n",
      "hello\n"
     ]
    }
   ],
   "source": [
    "say_hello()"
   ]
  },
  {
   "cell_type": "code",
   "execution_count": 38,
   "metadata": {},
   "outputs": [],
   "source": [
    "#在上面装饰器的实现方法中，并未提到在装饰函数中添加参数的情况，如果需要添加参数，在wrapper中添加即可\n",
    "# wrapper实现对参数的传递\n",
    "#　wrapper() takes 0 positional arguments but 1 was given\n",
    "#　不然会提示错误，如果wrapper不提前将func所需的参数加入进来"
   ]
  },
  {
   "cell_type": "code",
   "execution_count": 50,
   "metadata": {},
   "outputs": [],
   "source": [
    "def debug(func):\n",
    "    def wrapper(somthing):\n",
    "        print(\"[DEBUG]: ENTER {} ()\".format(func.__name__))\n",
    "        return func(somthing)\n",
    "    return wrapper"
   ]
  },
  {
   "cell_type": "code",
   "execution_count": 51,
   "metadata": {},
   "outputs": [],
   "source": [
    "@debug\n",
    "def say_hello(something):\n",
    "    print( \"hello {}\".format(something))"
   ]
  },
  {
   "cell_type": "code",
   "execution_count": 52,
   "metadata": {},
   "outputs": [
    {
     "name": "stdout",
     "output_type": "stream",
     "text": [
      "[DEBUG]: ENTER say_hello ()\n",
      "hello Lee\n"
     ]
    }
   ],
   "source": [
    "say_hello(\"Lee\")"
   ]
  },
  {
   "cell_type": "code",
   "execution_count": 53,
   "metadata": {},
   "outputs": [],
   "source": [
    "#　同时这个存在的另外一个问题，一旦参数限定，就会出现debug和say_hello紧耦合了\n",
    "#　所以需要将参数变成不定的形式，这样引入不定参数的想法是合理的\n",
    "#　*args/kwargs的使用就顺理成章了"
   ]
  },
  {
   "cell_type": "code",
   "execution_count": 75,
   "metadata": {},
   "outputs": [],
   "source": [
    "def debug(func):\n",
    "    def wrapper(*args):\n",
    "        print(\"[DEBUG]: ENTER {}()\".format(func.__name__))\n",
    "        return func(*args, **kwargs)\n",
    "    return wrapper"
   ]
  },
  {
   "cell_type": "code",
   "execution_count": 76,
   "metadata": {},
   "outputs": [],
   "source": [
    "@debug\n",
    "# 可以有无穷的参数输入，在这里args是tuple,但是*args映射的为其中的值，不再是tuple的形式, kwargs也是这种含义\n",
    "def say(something, Lee, Loo):\n",
    "    print(type(something))\n",
    "    print(type(Lee))\n",
    "    print(\"hello {}, {}, {}\".format(something, Lee, Loo))"
   ]
  },
  {
   "cell_type": "code",
   "execution_count": 77,
   "metadata": {},
   "outputs": [
    {
     "name": "stdout",
     "output_type": "stream",
     "text": [
      "[DEBUG]: ENTER say()\n",
      "<class 'str'>\n",
      "<class 'str'>\n",
      "hello Lee, Jack, Loo\n"
     ]
    }
   ],
   "source": [
    "say(\"Lee\", \"Jack\", \"Loo\")"
   ]
  },
  {
   "cell_type": "code",
   "execution_count": 78,
   "metadata": {},
   "outputs": [],
   "source": [
    "#　装饰器进阶\n",
    "#　带参数的装饰器和类装饰器"
   ]
  },
  {
   "cell_type": "code",
   "execution_count": 79,
   "metadata": {},
   "outputs": [],
   "source": [
    "# 带参数的装饰器\n",
    "#　则直接在装饰器上加入参数,也即在上面的装饰器上再包一层"
   ]
  },
  {
   "cell_type": "code",
   "execution_count": 80,
   "metadata": {},
   "outputs": [],
   "source": [
    "def logging(level):\n",
    "    def wrapper(func):\n",
    "        def inner_wrapper(*args, **kwargs):\n",
    "            print(\"[{level}]: enter function {func}()\".format( level=level, func = func.__name__))\n",
    "            return func(*args, *kwargs)\n",
    "        return inner_wrapper\n",
    "    return wrapper"
   ]
  },
  {
   "cell_type": "code",
   "execution_count": 81,
   "metadata": {},
   "outputs": [],
   "source": [
    "@logging(level=\"INFO\")\n",
    "def say(something):\n",
    "    print(\"hello {}\".format(something))"
   ]
  },
  {
   "cell_type": "code",
   "execution_count": 82,
   "metadata": {},
   "outputs": [
    {
     "name": "stdout",
     "output_type": "stream",
     "text": [
      "[INFO]: enter function say()\n",
      "hello Lee\n"
     ]
    }
   ],
   "source": [
    "say(\"Lee\")"
   ]
  },
  {
   "cell_type": "code",
   "execution_count": 83,
   "metadata": {},
   "outputs": [],
   "source": [
    "@logging(level=\"Debug\")\n",
    "def say(something):\n",
    "    print(\"hello {}\".format(something))"
   ]
  },
  {
   "cell_type": "code",
   "execution_count": 84,
   "metadata": {},
   "outputs": [
    {
     "name": "stdout",
     "output_type": "stream",
     "text": [
      "[Debug]: enter function say()\n",
      "hello Lee\n"
     ]
    }
   ],
   "source": [
    "say(\"Lee\")"
   ]
  },
  {
   "cell_type": "code",
   "execution_count": null,
   "metadata": {},
   "outputs": [],
   "source": [
    "# 基于类的实现的装饰器\n",
    "#　需要一个__call__的方法"
   ]
  },
  {
   "cell_type": "code",
   "execution_count": 86,
   "metadata": {},
   "outputs": [],
   "source": [
    "class Test():\n",
    "    def __call__(self):\n",
    "        print(\"call me\")"
   ]
  },
  {
   "cell_type": "code",
   "execution_count": 85,
   "metadata": {},
   "outputs": [],
   "source": []
  },
  {
   "cell_type": "code",
   "execution_count": null,
   "metadata": {},
   "outputs": [],
   "source": []
  }
 ],
 "metadata": {
  "kernelspec": {
   "display_name": "Python 3",
   "language": "python",
   "name": "python3"
  },
  "language_info": {
   "codemirror_mode": {
    "name": "ipython",
    "version": 3
   },
   "file_extension": ".py",
   "mimetype": "text/x-python",
   "name": "python",
   "nbconvert_exporter": "python",
   "pygments_lexer": "ipython3",
   "version": "3.6.4"
  }
 },
 "nbformat": 4,
 "nbformat_minor": 4
}
