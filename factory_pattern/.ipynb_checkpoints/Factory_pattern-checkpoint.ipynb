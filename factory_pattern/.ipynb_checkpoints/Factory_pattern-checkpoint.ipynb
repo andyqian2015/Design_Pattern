{
 "cells": [
  {
   "cell_type": "code",
   "execution_count": 36,
   "metadata": {},
   "outputs": [],
   "source": [
    "import cv2\n",
    "import pydicom\n",
    "import numpy as np"
   ]
  },
  {
   "cell_type": "code",
   "execution_count": 137,
   "metadata": {},
   "outputs": [],
   "source": [
    "class Data_Operator:\n",
    "    def save_data(self, filepath):\n",
    "        cv2.imwrite(filepath, self.image)\n",
    "    def set_image(self, image):\n",
    "        image = ((image - image.min())/image.ptp() * 255).astype(np.uint8)\n",
    "        self.image = image\n",
    "        \n",
    "    def data_load(self):\n",
    "        pass"
   ]
  },
  {
   "cell_type": "code",
   "execution_count": 138,
   "metadata": {},
   "outputs": [],
   "source": [
    "class png_load(Data_Operator):\n",
    "    def __init__(self, filepath):\n",
    "        super(Data_Operator, self).__init__()\n",
    "        self.filepath = filepath\n",
    "        \n",
    "    def data_load(self):\n",
    "        image = cv2.imread(self.filepath, cv2.IMREAD_GRAYSCALE)\n",
    "        self.set_image(image)\n",
    "        return image"
   ]
  },
  {
   "cell_type": "code",
   "execution_count": 145,
   "metadata": {},
   "outputs": [],
   "source": [
    "class dcm_load(Data_Operator):\n",
    "    def __init__(self, filepath):\n",
    "        super(Data_Operator, self).__init__()\n",
    "        self.filepath = filepath\n",
    "        \n",
    "    def data_load(self):\n",
    "        ds = pydicom.read_file(self.filepath)\n",
    "        image = ds.pixel_array\n",
    "        self.set_image(image)\n",
    "        return image"
   ]
  },
  {
   "cell_type": "code",
   "execution_count": 146,
   "metadata": {},
   "outputs": [],
   "source": [
    "class DataFactory:\n",
    "    def get(self, filepath, mode=\"png\"):\n",
    "        if mode==\"png\":\n",
    "            return png_load(filepath)\n",
    "        else:\n",
    "            return dcm_load(filepath)\n",
    "    "
   ]
  },
  {
   "cell_type": "code",
   "execution_count": 147,
   "metadata": {},
   "outputs": [
    {
     "name": "stdout",
     "output_type": "stream",
     "text": [
      "aaa\n",
      "747\n",
      "hello world\n"
     ]
    }
   ],
   "source": [
    "model_dcm = \"dicom\"\n",
    "filepath = \"./IMG_00000.dcm\"\n",
    "factory = DataFactory()\n",
    "dataset_dicom = factory.get(filepath, mode = model_dcm)\n",
    "dataset_dicom.data_load()\n",
    "dataset_dicom.save_data('./dicom_save.png')"
   ]
  },
  {
   "cell_type": "code",
   "execution_count": null,
   "metadata": {},
   "outputs": [],
   "source": []
  },
  {
   "cell_type": "code",
   "execution_count": null,
   "metadata": {},
   "outputs": [],
   "source": []
  }
 ],
 "metadata": {
  "kernelspec": {
   "display_name": "Python 3",
   "language": "python",
   "name": "python3"
  },
  "language_info": {
   "codemirror_mode": {
    "name": "ipython",
    "version": 3
   },
   "file_extension": ".py",
   "mimetype": "text/x-python",
   "name": "python",
   "nbconvert_exporter": "python",
   "pygments_lexer": "ipython3",
   "version": "3.6.4"
  }
 },
 "nbformat": 4,
 "nbformat_minor": 4
}
