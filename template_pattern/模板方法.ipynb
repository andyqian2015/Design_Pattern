{
 "cells": [
  {
   "cell_type": "markdown",
   "metadata": {},
   "source": [
    "对模板方法类，抽象方法只是负责实现流程，这个是不变的，因此在抽象方法中实现，但是具体的子类负责对具体的方法实现，在调用的时候，只是调用方法的抽象流程，流程实现了对具体方法的封装"
   ]
  },
  {
   "cell_type": "code",
   "execution_count": 14,
   "metadata": {},
   "outputs": [],
   "source": [
    "class AbstractClass():\n",
    "    def run(self):\n",
    "        self.go_work()\n",
    "        self.down_work()\n",
    "    def go_work(self):\n",
    "        pass\n",
    "    def down_work(self):\n",
    "        pass"
   ]
  },
  {
   "cell_type": "code",
   "execution_count": 17,
   "metadata": {},
   "outputs": [],
   "source": [
    "class ConcreateClass１(AbstractClass):\n",
    "    def go_work(self):\n",
    "        print(\"go work by bus\")\n",
    "    def down_work(self):\n",
    "        print(\"down work by bike\")"
   ]
  },
  {
   "cell_type": "code",
   "execution_count": 18,
   "metadata": {},
   "outputs": [],
   "source": [
    "class ConcreateClass2(AbstractClass):\n",
    "    def go_work(self):\n",
    "        print(\"go work by car\")\n",
    "    def down_work(self):\n",
    "        print(\"down work on foot\")"
   ]
  },
  {
   "cell_type": "code",
   "execution_count": 20,
   "metadata": {},
   "outputs": [
    {
     "name": "stdout",
     "output_type": "stream",
     "text": [
      "go work by bus\n",
      "down work by bike\n",
      "go work by car\n",
      "down work on foot\n"
     ]
    }
   ],
   "source": [
    "if __name__== \"__main__\":\n",
    "    implement = ConcreateClass１()\n",
    "    implement.run()\n",
    "    \n",
    "    implement = ConcreateClass2()\n",
    "    implement.run()"
   ]
  },
  {
   "cell_type": "code",
   "execution_count": null,
   "metadata": {},
   "outputs": [],
   "source": []
  }
 ],
 "metadata": {
  "kernelspec": {
   "display_name": "Python 3",
   "language": "python",
   "name": "python3"
  },
  "language_info": {
   "codemirror_mode": {
    "name": "ipython",
    "version": 3
   },
   "file_extension": ".py",
   "mimetype": "text/x-python",
   "name": "python",
   "nbconvert_exporter": "python",
   "pygments_lexer": "ipython3",
   "version": "3.6.4"
  }
 },
 "nbformat": 4,
 "nbformat_minor": 4
}
